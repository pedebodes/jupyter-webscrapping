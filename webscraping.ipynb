{
 "cells": [
  {
   "cell_type": "code",
   "execution_count": 15,
   "metadata": {},
   "outputs": [],
   "source": [
    "import requests\n",
    "from bs4 import BeautifulSoup\n",
    "import pandas as pd\n",
    "import re as re\n",
    "\n",
    "# Defining url to make webscrapping \n",
    "url = 'https://www.imdb.com/chart/top'\n",
    "\n",
    "# Create a http request from url set  \n",
    "resp = requests.get(url)\n",
    "\n",
    "# Create object BeautifulSoup\n",
    "soup = BeautifulSoup(resp.text, 'html.parser')\n",
    "\n",
    "# Here we will extract name and year from list\n",
    "texts_part1 = soup.find(class_='lister-list').find_all(class_='titleColumn')\n",
    "data1=[]\n",
    "for x in texts_part1:data1.append(x.text)\n",
    "    \n",
    "\n",
    "# Here we will extract score from list\n",
    "texts_part2 = soup.find(class_='lister-list').find_all(class_='ratingColumn imdbRating')\n",
    "data2=[]\n",
    "for x in texts_part2:data2.append(x.text)\n"
   ]
  },
  {
   "cell_type": "code",
   "execution_count": 16,
   "metadata": {},
   "outputs": [
    {
     "data": {
      "text/html": [
       "<div>\n",
       "<style scoped>\n",
       "    .dataframe tbody tr th:only-of-type {\n",
       "        vertical-align: middle;\n",
       "    }\n",
       "\n",
       "    .dataframe tbody tr th {\n",
       "        vertical-align: top;\n",
       "    }\n",
       "\n",
       "    .dataframe thead th {\n",
       "        text-align: right;\n",
       "    }\n",
       "</style>\n",
       "<table border=\"1\" class=\"dataframe\">\n",
       "  <thead>\n",
       "    <tr style=\"text-align: right;\">\n",
       "      <th></th>\n",
       "      <th>rank</th>\n",
       "      <th>movie</th>\n",
       "      <th>year</th>\n",
       "      <th>score</th>\n",
       "    </tr>\n",
       "  </thead>\n",
       "  <tbody>\n",
       "    <tr>\n",
       "      <th>0</th>\n",
       "      <td>1</td>\n",
       "      <td>Um Sonho de Liberdade</td>\n",
       "      <td>1994</td>\n",
       "      <td>9.2</td>\n",
       "    </tr>\n",
       "    <tr>\n",
       "      <th>1</th>\n",
       "      <td>2</td>\n",
       "      <td>O Poderoso Chefão</td>\n",
       "      <td>1972</td>\n",
       "      <td>9.2</td>\n",
       "    </tr>\n",
       "    <tr>\n",
       "      <th>2</th>\n",
       "      <td>3</td>\n",
       "      <td>O Poderoso Chefão II</td>\n",
       "      <td>1974</td>\n",
       "      <td>9.0</td>\n",
       "    </tr>\n",
       "    <tr>\n",
       "      <th>3</th>\n",
       "      <td>4</td>\n",
       "      <td>Batman: O Cavaleiro das Trevas</td>\n",
       "      <td>2008</td>\n",
       "      <td>9.0</td>\n",
       "    </tr>\n",
       "    <tr>\n",
       "      <th>4</th>\n",
       "      <td>5</td>\n",
       "      <td>12 Homens e uma Sentença</td>\n",
       "      <td>1957</td>\n",
       "      <td>8.9</td>\n",
       "    </tr>\n",
       "  </tbody>\n",
       "</table>\n",
       "</div>"
      ],
      "text/plain": [
       "   rank                           movie  year score\n",
       "0     1           Um Sonho de Liberdade  1994   9.2\n",
       "1     2               O Poderoso Chefão  1972   9.2\n",
       "2     3            O Poderoso Chefão II  1974   9.0\n",
       "3     4  Batman: O Cavaleiro das Trevas  2008   9.0\n",
       "4     5        12 Homens e uma Sentença  1957   8.9"
      ]
     },
     "execution_count": 16,
     "metadata": {},
     "output_type": "execute_result"
    }
   ],
   "source": [
    "# Create lists to append our values\n",
    "year,name_movie,score=[],[],[]\n",
    "\n",
    "# Append values for lists\n",
    "for x in range(len(data1)):\n",
    "    name_movie.append (list(str(data1[x]).split(\"\\n\"))[2])\n",
    "    year.append       (list(str(data1[x]).split(\"\\n\"))[3])\n",
    "    score.append      (list(str(data2[x]).split(\"\\n\"))[1])\n",
    "\n",
    "# Remove whitespace in the string\n",
    "for x in range(len(name_movie)): name_movie[x] = name_movie[x].strip()\n",
    "\n",
    "# Remove parentheses of each year\n",
    "for x in range(len(year)): year[x] = re.sub('[()]','', year[x])\n",
    "\n",
    "# Create dataframe wit our values\n",
    "imdb_dataset = pd.DataFrame( list(zip(range(1,250),name_movie, year,score)) , \n",
    "                            columns=['rank','movie','year','score'] )\n",
    "imdb_dataset.head()\n"
   ]
  },
  {
   "cell_type": "code",
   "execution_count": 11,
   "metadata": {},
   "outputs": [],
   "source": [
    "# Export to csv\n",
    "imdb_dataset.to_excel(\"imdb.xlsx\", index=False, sheet_name='app') "
   ]
  }
 ],
 "metadata": {
  "kernelspec": {
   "display_name": "Python 3",
   "language": "python",
   "name": "python3"
  },
  "language_info": {
   "codemirror_mode": {
    "name": "ipython",
    "version": 3
   },
   "file_extension": ".py",
   "mimetype": "text/x-python",
   "name": "python",
   "nbconvert_exporter": "python",
   "pygments_lexer": "ipython3",
   "version": "3.7.1"
  }
 },
 "nbformat": 4,
 "nbformat_minor": 4
}
